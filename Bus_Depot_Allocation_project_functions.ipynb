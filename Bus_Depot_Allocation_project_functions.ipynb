{
  "nbformat": 4,
  "nbformat_minor": 0,
  "metadata": {
    "colab": {
      "name": "Bus Depot Allocation project functions.ipynb",
      "provenance": [],
      "collapsed_sections": [],
      "authorship_tag": "ABX9TyP/eHVwZCF43Hfb3RcqqJF2",
      "include_colab_link": true
    },
    "kernelspec": {
      "name": "python3",
      "display_name": "Python 3"
    },
    "language_info": {
      "name": "python"
    }
  },
  "cells": [
    {
      "cell_type": "markdown",
      "metadata": {
        "id": "view-in-github",
        "colab_type": "text"
      },
      "source": [
        "<a href=\"https://colab.research.google.com/github/CaptMadhan/AICTE-DailyWageWorkers-App/blob/master/Bus_Depot_Allocation_project_functions.ipynb\" target=\"_parent\"><img src=\"https://colab.research.google.com/assets/colab-badge.svg\" alt=\"Open In Colab\"/></a>"
      ]
    },
    {
      "cell_type": "markdown",
      "source": [
        "## **North-West Rule to find IBFS**"
      ],
      "metadata": {
        "id": "QxDqPrFTGTeH"
      }
    },
    {
      "cell_type": "code",
      "execution_count": 17,
      "metadata": {
        "id": "IhMI5DyW2ctg"
      },
      "outputs": [],
      "source": [
        "import numpy as np\n",
        "import sys\n",
        "fact = [7,9,18]\n",
        "ware = [5,8,7,14]\n",
        "weights = np.array([[19,30,50,10],\n",
        "                    [70,30,40,60],\n",
        "                    [40,8,70,20]])"
      ]
    },
    {
      "cell_type": "code",
      "source": [
        "def northWestIBFS(fact, ware,weights):\n",
        "  n = 0\n",
        "  w = 0\n",
        "  ibfs = 0\n",
        "  arr = np.array([[0 for i in range(len(ware))] for i in range(len(fact))])  \n",
        "  while  n < len(fact) and w < len(ware):\n",
        "    if fact[n] > ware[w]:\n",
        "      arr[n][w] = ware[w]\n",
        "      fact[n] -= ware[w]\n",
        "      ware[w] = 0\n",
        "      w += 1\n",
        "    elif fact[n] < ware[w]:\n",
        "      arr[n][w] = fact[n]\n",
        "      ware[w] -= fact[n]\n",
        "      fact[n] = 0\n",
        "      n += 1\n",
        "    else:\n",
        "      arr[n][w] = fact[n]\n",
        "      fact[n] = 0\n",
        "      ware[w] = 0\n",
        "      n += 1\n",
        "      w += 1\n",
        "  for i in range(len(arr)):\n",
        "    for j in range(len(arr[0])):\n",
        "      ibfs += arr[i][j] * weights[i][j]\n",
        "  return arr,ibfs\n"
      ],
      "metadata": {
        "id": "KY7K8tTa5l4E"
      },
      "execution_count": 18,
      "outputs": []
    },
    {
      "cell_type": "code",
      "source": [
        "fact = [7,9,18]\n",
        "ware = [5,8,7,14]\n",
        "weights = np.array([[19,30,50,10],\n",
        "                    [70,30,40,60],\n",
        "                    [40,8,70,20]])\n",
        "\n",
        "northWestIBFS(fact, ware,weights)"
      ],
      "metadata": {
        "colab": {
          "base_uri": "https://localhost:8080/"
        },
        "id": "iF50S48B6vpS",
        "outputId": "f7fa44a1-2407-4936-fcf0-c8ade2604106"
      },
      "execution_count": 19,
      "outputs": [
        {
          "output_type": "execute_result",
          "data": {
            "text/plain": [
              "(array([[ 5,  2,  0,  0],\n",
              "        [ 0,  6,  3,  0],\n",
              "        [ 0,  0,  4, 14]]), 1015)"
            ]
          },
          "metadata": {},
          "execution_count": 19
        }
      ]
    },
    {
      "cell_type": "code",
      "source": [
        "fact = [30,70,50]\n",
        "ware = [40,30,40,40]\n",
        "weights = np.array([[19,30,50,10],\n",
        "                    [70,30,40,60],\n",
        "                    [40,8,70,20]])\n",
        "\n",
        "northWestIBFS(fact, ware,weights)"
      ],
      "metadata": {
        "colab": {
          "base_uri": "https://localhost:8080/"
        },
        "id": "iTtCMZZ6699l",
        "outputId": "6b4af6ee-15e2-425d-fe15-7726245041ae"
      },
      "execution_count": 20,
      "outputs": [
        {
          "output_type": "execute_result",
          "data": {
            "text/plain": [
              "(array([[30,  0,  0,  0],\n",
              "        [10, 30, 30,  0],\n",
              "        [ 0,  0, 10, 40]]), 4870)"
            ]
          },
          "metadata": {},
          "execution_count": 20
        }
      ]
    },
    {
      "cell_type": "code",
      "source": [
        "fact = [10,35,25]\n",
        "ware = [20,25,25]\n",
        "weights = np.array([[2,3,1],\n",
        "                    [5,4,8],\n",
        "                    [5,6,8]])\n",
        "\n",
        "northWestIBFS(fact, ware,weights)"
      ],
      "metadata": {
        "colab": {
          "base_uri": "https://localhost:8080/"
        },
        "id": "U-CZdplWB0oS",
        "outputId": "ae9d0832-f4cb-47ab-c798-2afde47a280b"
      },
      "execution_count": 21,
      "outputs": [
        {
          "output_type": "execute_result",
          "data": {
            "text/plain": [
              "(array([[10,  0,  0],\n",
              "        [10, 25,  0],\n",
              "        [ 0,  0, 25]]), 370)"
            ]
          },
          "metadata": {},
          "execution_count": 21
        }
      ]
    },
    {
      "cell_type": "code",
      "source": [
        "fact = [70,\n",
        "        30,\n",
        "        50]\n",
        "ware = [65,42,43]\n",
        "weights = np.array([[5,7,8],\n",
        "                    [4,4,6],\n",
        "                    [6,7,7]])\n",
        "\n",
        "northWestIBFS(fact, ware,weights)"
      ],
      "metadata": {
        "colab": {
          "base_uri": "https://localhost:8080/"
        },
        "id": "DFCxTkIxEaVl",
        "outputId": "7d9299f1-86f9-412f-a567-74f1d9a9082d"
      },
      "execution_count": 22,
      "outputs": [
        {
          "output_type": "execute_result",
          "data": {
            "text/plain": [
              "(array([[65,  5,  0],\n",
              "        [ 0, 30,  0],\n",
              "        [ 0,  7, 43]]), 830)"
            ]
          },
          "metadata": {},
          "execution_count": 22
        }
      ]
    },
    {
      "cell_type": "markdown",
      "source": [
        "# **Row-Minima method**"
      ],
      "metadata": {
        "id": "y4-upbHKGdXn"
      }
    },
    {
      "cell_type": "code",
      "source": [
        "def row_MinimaIBFS(fact, ware, weights):\n",
        "  n = 0\n",
        "  w = 0\n",
        "  ibfs = 0\n",
        "  arr = np.array([[0 for i in range(len(ware))] for i in range(len(fact))]) \n",
        "  while  n < len(fact) and w < len(ware):\n",
        "    if max(ware) > fact[n]:\n",
        "      w = ware.index(max(ware))\n",
        "      arr[n][w] = fact[n]\n",
        "      ware[w] -= fact[n]\n",
        "      fact[n] = 0\n",
        "      n += 1\n",
        "    elif max(ware) < fact[n]:\n",
        "      w = ware.index(max(ware))\n",
        "      arr[n][w] = ware[w]\n",
        "      fact[n] -= ware[w]\n",
        "      ware[w] = 0\n",
        "    else:\n",
        "      w = ware.index(max(ware))\n",
        "      arr[n][w] = max(ware)\n",
        "      fact[n] = 0\n",
        "      ware[w] = 0\n",
        "      n += 1\n",
        "      w + 1\n",
        "  for i in range(len(arr)):\n",
        "    for j in range(len(arr[0])):\n",
        "      ibfs += arr[i][j] * weights[i][j]\n",
        "  return arr,ibfs\n",
        "      \n",
        "\n",
        "          "
      ],
      "metadata": {
        "id": "9d1PBSVpKDaG"
      },
      "execution_count": 23,
      "outputs": []
    },
    {
      "cell_type": "code",
      "source": [
        "\n",
        "fact = [7,9,18]\n",
        "ware = [5,8,7,14]\n",
        "weights = np.array([[19,30,50,10],\n",
        "                    [70,30,40,60],\n",
        "                    [40,8,70,20]])\n",
        "\n",
        "row_MinimaIBFS(fact, ware,weights)"
      ],
      "metadata": {
        "colab": {
          "base_uri": "https://localhost:8080/"
        },
        "id": "Ml73dC5MP0Vu",
        "outputId": "4356fe71-e87b-44fa-e1ed-d1f0a39ba03a"
      },
      "execution_count": 24,
      "outputs": [
        {
          "output_type": "execute_result",
          "data": {
            "text/plain": [
              "(array([[0, 0, 0, 7],\n",
              "        [0, 8, 1, 0],\n",
              "        [5, 0, 6, 7]]), 1110)"
            ]
          },
          "metadata": {},
          "execution_count": 24
        }
      ]
    },
    {
      "cell_type": "code",
      "source": [
        "fact = [70,\n",
        "        30,\n",
        "        50]\n",
        "ware = [65,42,43]\n",
        "weights = np.array([[5,7,8],\n",
        "                    [4,4,6],\n",
        "                    [6,7,7]])\n",
        "\n",
        "row_MinimaIBFS(fact, ware,weights)"
      ],
      "metadata": {
        "colab": {
          "base_uri": "https://localhost:8080/"
        },
        "id": "LGbnNEJLQWhA",
        "outputId": "88c18204-9622-44e1-df18-e7cdccaa3f0b"
      },
      "execution_count": 25,
      "outputs": [
        {
          "output_type": "execute_result",
          "data": {
            "text/plain": [
              "(array([[65,  0,  5],\n",
              "        [ 0, 30,  0],\n",
              "        [ 0, 12, 38]]), 835)"
            ]
          },
          "metadata": {},
          "execution_count": 25
        }
      ]
    },
    {
      "cell_type": "markdown",
      "source": [
        "# **Least Cost Method to find IBFS**"
      ],
      "metadata": {
        "id": "d7bUWbPuQ7Yd"
      }
    },
    {
      "cell_type": "code",
      "source": [
        "weights = np.array([[5,7,8],\n",
        "                    [5,4,6],\n",
        "                    [6,2,7]])\n",
        "np.argwhere(weights == np.min(weights))[0][0]"
      ],
      "metadata": {
        "colab": {
          "base_uri": "https://localhost:8080/"
        },
        "id": "inLqDzgxTzoy",
        "outputId": "408c9d11-6a4d-434e-a447-044476479cfd"
      },
      "execution_count": 26,
      "outputs": [
        {
          "output_type": "execute_result",
          "data": {
            "text/plain": [
              "2"
            ]
          },
          "metadata": {},
          "execution_count": 26
        }
      ]
    },
    {
      "cell_type": "code",
      "source": [
        "def leastCostIBFS(fact, ware,weights):\n",
        "  n = 0\n",
        "  w = 0\n",
        "  ibfs = 0\n",
        "  temp_weights = weights.copy()\n",
        "  arr = np.array([[0 for i in range(len(ware))] for i in range(len(fact))]) \n",
        "  while sum(fact) > 0:\n",
        "    n = np.argwhere(weights == np.min(weights))[0][0]\n",
        "    w = np.argwhere(weights == np.min(weights))[0][1]\n",
        "    if fact[n] > ware[w]:\n",
        "      arr[n][w] = ware[w]\n",
        "      fact[n] -= ware[w]\n",
        "      ware[w] = 0\n",
        "    elif fact[n] < ware[w]:\n",
        "      arr[n][w] = fact[n]\n",
        "      ware[w] -= fact[n]\n",
        "      fact[n] = 0\n",
        "    else:\n",
        "      arr[n][w] = fact[n]\n",
        "      fact[n] = 0\n",
        "      ware[w] = 0\n",
        "    weights[n][w] = sys.maxsize\n",
        "  for i in range(len(arr)):\n",
        "    for j in range(len(arr[0])):\n",
        "      ibfs += arr[i][j] * temp_weights[i][j]\n",
        "  return arr,ibfs"
      ],
      "metadata": {
        "id": "WkIGDXybS3hL"
      },
      "execution_count": 27,
      "outputs": []
    },
    {
      "cell_type": "code",
      "source": [
        "fact = [7,9,18]\n",
        "ware = [5,8,7,14]\n",
        "weights = np.array([[19,30,50,10],\n",
        "                    [70,30,40,60],\n",
        "                    [40,8,70,20]])\n",
        "\n",
        "leastCostIBFS(fact, ware,weights)"
      ],
      "metadata": {
        "colab": {
          "base_uri": "https://localhost:8080/"
        },
        "id": "AB9l-N-mxwZc",
        "outputId": "22ecba10-74c5-4826-d69a-04e293f773e8"
      },
      "execution_count": 28,
      "outputs": [
        {
          "output_type": "execute_result",
          "data": {
            "text/plain": [
              "(array([[0, 0, 0, 7],\n",
              "        [2, 0, 7, 0],\n",
              "        [3, 8, 0, 7]]), 814)"
            ]
          },
          "metadata": {},
          "execution_count": 28
        }
      ]
    },
    {
      "cell_type": "code",
      "source": [
        "fact = [70,\n",
        "        30,\n",
        "        50]\n",
        "ware = [65,42,43]\n",
        "weights = np.array([[5,7,8],\n",
        "                    [4,4,6],\n",
        "                    [6,7,7]])\n",
        "\n",
        "leastCostIBFS(fact, ware,weights)"
      ],
      "metadata": {
        "colab": {
          "base_uri": "https://localhost:8080/"
        },
        "id": "BJAjC_BaxwtX",
        "outputId": "342ab1e6-478d-4ed1-988f-ad506ac655ec"
      },
      "execution_count": 29,
      "outputs": [
        {
          "output_type": "execute_result",
          "data": {
            "text/plain": [
              "(array([[35, 35,  0],\n",
              "        [30,  0,  0],\n",
              "        [ 0,  7, 43]]), 890)"
            ]
          },
          "metadata": {},
          "execution_count": 29
        }
      ]
    },
    {
      "cell_type": "markdown",
      "source": [
        "# VAM"
      ],
      "metadata": {
        "id": "8Z7kFpjX7Buk"
      }
    },
    {
      "cell_type": "code",
      "source": [
        "#MAIN\n",
        "import numpy as np\n",
        "def leastMinus2ndLeast(lst):\n",
        "  lst = list(set(lst))\n",
        "  if len(lst) == 1:\n",
        "    return lst[0]\n",
        "  min1 = min(lst)\n",
        "  lst.remove(min1)\n",
        "  min2 = min(lst)\n",
        "  return abs(min2-min1)\n",
        "\n",
        "def getPenalties(weights, bool_table, nrow, ncol):\n",
        "  lst_row = []\n",
        "  lst_col = []\n",
        "  #Row Penalties\n",
        "  for i in range(nrow):\n",
        "    temp = []\n",
        "    for j in range(ncol):\n",
        "      if bool_table[i][j] == True:\n",
        "        temp.append(weights[i][j])\n",
        "    if len(temp) != 0:\n",
        "      lst_row.append(leastMinus2ndLeast(temp))\n",
        "\n",
        "  #Column Penalties\n",
        "  for i in range(ncol):\n",
        "    temp = []\n",
        "    for j in range(nrow):\n",
        "      if bool_table[j][i] == True:\n",
        "        temp.append(weights[j][i])\n",
        "    if len(temp) != 0:\n",
        "      lst_col.append(leastMinus2ndLeast(temp))\n",
        "  return lst_row, lst_col\n",
        "\n",
        "def allocateValue(weights, r, c, result_arr, bool_table, fact, ware, nrow, ncol):\n",
        "  if fact[r] > ware[c]:\n",
        "    result_arr[r][c] = ware[c]\n",
        "    fact[r] -= ware[c]\n",
        "    ware[c] = 0\n",
        "    for i in range(nrow):\n",
        "      bool_table[i][c] = False\n",
        "  elif fact[r] < ware[c]:\n",
        "    result_arr[r][c] = fact[r]\n",
        "    ware[c] -= fact[r]\n",
        "    fact[r] = 0\n",
        "    for i in range(ncol):\n",
        "      bool_table[r][i] = False\n",
        "  else:\n",
        "    result_arr[r][c] = fact[r]\n",
        "    fact[r] = 0\n",
        "    ware[c] = 0\n",
        "    for i in range(nrow):\n",
        "      bool_table[i][c] = False\n",
        "    for i in range(ncol):\n",
        "      bool_table[r][i] = False\n",
        "  return result_arr, bool_table, fact, ware\n",
        "\n",
        "def VAM(fact, ware, weights):\n",
        "  nrow = len(fact)\n",
        "  ncol = len(ware)\n",
        "  r = 0\n",
        "  c = 0\n",
        "  result_arr = np.array([[0 for i in range(len(ware))] for i in range(len(fact))])  \n",
        "  bool_table = np.array([[True for i in range(ncol)] for i in range(nrow)])\n",
        "  ooo=0\n",
        "  while ooo != 10 :\n",
        "    print('*'*20)\n",
        "    print(bool_table)\n",
        "    ooo += 1\n",
        "    penalty_row, penalty_col = getPenalties(weights, bool_table, nrow, ncol)\n",
        "    max_p_r = max(penalty_row)\n",
        "    max_p_c = max(penalty_col)\n",
        "    #print(penalty_row)\n",
        "    #print(penalty_col)\n",
        "    if max(max_p_r,max_p_c) == max_p_c:\n",
        "      c = penalty_col.index(max_p_c)\n",
        "      temp_lst = []\n",
        "      for i in range(nrow):\n",
        "        temp_lst.append(weights[i][c])\n",
        "      #print(temp_lst)\n",
        "      min_cost_row_index = temp_lst.index(min(temp_lst))\n",
        "      result_arr, bool_table, fact, ware = allocateValue(weights, min_cost_row_index, c,result_arr, bool_table, fact, ware, nrow, ncol)\n",
        "    else:\n",
        "      r = penalty_row.index(max_p_r)\n",
        "      temp_lst = []\n",
        "      for i in range(ncol):\n",
        "        temp_lst.append(weights[r][i])\n",
        "      #print(temp_lst)\n",
        "      min_cost_col_index = temp_lst.index(min(temp_lst))\n",
        "      result_arr, bool_table, fact, ware = allocateValue(weights, r, min_cost_col_index,result_arr, bool_table, fact, ware, nrow, ncol)\n",
        "    print(result_arr)\n",
        "  return result_arr"
      ],
      "metadata": {
        "id": "sEYrM5et08o2"
      },
      "execution_count": 30,
      "outputs": []
    },
    {
      "cell_type": "code",
      "source": [
        "fact = [7,9,18]\n",
        "ware = [5,8,7,14]\n",
        "weights = np.array([[19,30,50,10],\n",
        "                    [70,30,40,60],\n",
        "                    [40,8,70,20]])\n",
        "nrow = len(fact)\n",
        "ncol = len(ware)\n",
        "bool_table = np.array([[True for i in range(ncol)] for i in range(nrow)])\n",
        "result_arr = np.array([[0 for i in range(len(ware))] for i in range(len(fact))])  \n",
        "VAM(fact, ware, weights)"
      ],
      "metadata": {
        "colab": {
          "base_uri": "https://localhost:8080/"
        },
        "id": "F70NOsur-EyK",
        "outputId": "eb3b5481-5d51-4af6-e819-d6ae38550a50"
      },
      "execution_count": 31,
      "outputs": [
        {
          "output_type": "stream",
          "name": "stdout",
          "text": [
            "********************\n",
            "[[ True  True  True  True]\n",
            " [ True  True  True  True]\n",
            " [ True  True  True  True]]\n",
            "[[0 0 0 0]\n",
            " [0 0 0 0]\n",
            " [0 8 0 0]]\n",
            "********************\n",
            "[[ True False  True  True]\n",
            " [ True False  True  True]\n",
            " [ True False  True  True]]\n",
            "[[5 0 0 0]\n",
            " [0 0 0 0]\n",
            " [0 8 0 0]]\n",
            "********************\n",
            "[[False False  True  True]\n",
            " [False False  True  True]\n",
            " [False False  True  True]]\n",
            "[[5 0 0 0]\n",
            " [0 0 0 0]\n",
            " [0 0 0 0]]\n",
            "********************\n",
            "[[False False  True  True]\n",
            " [False False  True  True]\n",
            " [False False  True  True]]\n",
            "[[5 0 0 0]\n",
            " [0 0 0 0]\n",
            " [0 0 0 0]]\n",
            "********************\n",
            "[[False False  True  True]\n",
            " [False False  True  True]\n",
            " [False False  True  True]]\n",
            "[[5 0 0 0]\n",
            " [0 0 0 0]\n",
            " [0 0 0 0]]\n",
            "********************\n",
            "[[False False  True  True]\n",
            " [False False  True  True]\n",
            " [False False  True  True]]\n",
            "[[5 0 0 0]\n",
            " [0 0 0 0]\n",
            " [0 0 0 0]]\n",
            "********************\n",
            "[[False False  True  True]\n",
            " [False False  True  True]\n",
            " [False False  True  True]]\n",
            "[[5 0 0 0]\n",
            " [0 0 0 0]\n",
            " [0 0 0 0]]\n",
            "********************\n",
            "[[False False  True  True]\n",
            " [False False  True  True]\n",
            " [False False  True  True]]\n",
            "[[5 0 0 0]\n",
            " [0 0 0 0]\n",
            " [0 0 0 0]]\n",
            "********************\n",
            "[[False False  True  True]\n",
            " [False False  True  True]\n",
            " [False False  True  True]]\n",
            "[[5 0 0 0]\n",
            " [0 0 0 0]\n",
            " [0 0 0 0]]\n",
            "********************\n",
            "[[False False  True  True]\n",
            " [False False  True  True]\n",
            " [False False  True  True]]\n",
            "[[5 0 0 0]\n",
            " [0 0 0 0]\n",
            " [0 0 0 0]]\n"
          ]
        },
        {
          "output_type": "execute_result",
          "data": {
            "text/plain": [
              "array([[5, 0, 0, 0],\n",
              "       [0, 0, 0, 0],\n",
              "       [0, 0, 0, 0]])"
            ]
          },
          "metadata": {},
          "execution_count": 31
        }
      ]
    },
    {
      "cell_type": "code",
      "source": [
        "fact = [7,9,18]\n",
        "ware = [5,8,7,14]\n",
        "weights = np.array([[19,30,50,10],\n",
        "                    [70,30,40,60],\n",
        "                    [40,8,70,20]])\n",
        "nrow = len(fact)\n",
        "ncol = len(ware)\n",
        "bool_table = np.array([[True for i in range(ncol)] for i in range(nrow)])\n",
        "result_arr = np.array([[0 for i in range(len(ware))] for i in range(len(fact))])  \n",
        "\n",
        "penalty_row, penalty_col = getPenalties(weights, bool_table, nrow, ncol)\n",
        "max_p_r = max(penalty_row)\n",
        "max_p_c = max(penalty_col)\n",
        "#print(penalty_row)\n",
        "#print(penalty_col)\n",
        "if max(max_p_r,max_p_c) == max_p_c:\n",
        "  c = penalty_col.index(max_p_c)\n",
        "  temp_lst = []\n",
        "  for i in range(nrow):\n",
        "    temp_lst.append(weights[i][c])\n",
        "  #print(temp_lst)\n",
        "  min_cost_row_index = temp_lst.index(min(temp_lst))\n",
        "  allocateValue(weights, min_cost_row_index, c)\n",
        "else:\n",
        "  r = penalty_col.index(max_p_r)\n",
        "  temp_lst = []\n",
        "  for i in range(ncol):\n",
        "    temp_lst.append(weights[r][i])\n",
        "  #print(temp_lst)\n",
        "  min_cost_col_index = temp_lst.index(min(temp_lst))\n",
        "  allocateValue(weights, r, min_cost_col_index)\n",
        "print(result_arr)"
      ],
      "metadata": {
        "colab": {
          "base_uri": "https://localhost:8080/",
          "height": 242
        },
        "id": "nWpPUSwKH8D_",
        "outputId": "002c8694-ee86-4baf-d1e8-290faf5ec195"
      },
      "execution_count": 32,
      "outputs": [
        {
          "output_type": "error",
          "ename": "TypeError",
          "evalue": "ignored",
          "traceback": [
            "\u001b[0;31m---------------------------------------------------------------------------\u001b[0m",
            "\u001b[0;31mTypeError\u001b[0m                                 Traceback (most recent call last)",
            "\u001b[0;32m<ipython-input-32-86e4ee42fb5f>\u001b[0m in \u001b[0;36m<module>\u001b[0;34m()\u001b[0m\n\u001b[1;32m     21\u001b[0m   \u001b[0;31m#print(temp_lst)\u001b[0m\u001b[0;34m\u001b[0m\u001b[0;34m\u001b[0m\u001b[0;34m\u001b[0m\u001b[0m\n\u001b[1;32m     22\u001b[0m   \u001b[0mmin_cost_row_index\u001b[0m \u001b[0;34m=\u001b[0m \u001b[0mtemp_lst\u001b[0m\u001b[0;34m.\u001b[0m\u001b[0mindex\u001b[0m\u001b[0;34m(\u001b[0m\u001b[0mmin\u001b[0m\u001b[0;34m(\u001b[0m\u001b[0mtemp_lst\u001b[0m\u001b[0;34m)\u001b[0m\u001b[0;34m)\u001b[0m\u001b[0;34m\u001b[0m\u001b[0;34m\u001b[0m\u001b[0m\n\u001b[0;32m---> 23\u001b[0;31m   \u001b[0mallocateValue\u001b[0m\u001b[0;34m(\u001b[0m\u001b[0mweights\u001b[0m\u001b[0;34m,\u001b[0m \u001b[0mmin_cost_row_index\u001b[0m\u001b[0;34m,\u001b[0m \u001b[0mc\u001b[0m\u001b[0;34m)\u001b[0m\u001b[0;34m\u001b[0m\u001b[0;34m\u001b[0m\u001b[0m\n\u001b[0m\u001b[1;32m     24\u001b[0m \u001b[0;32melse\u001b[0m\u001b[0;34m:\u001b[0m\u001b[0;34m\u001b[0m\u001b[0;34m\u001b[0m\u001b[0m\n\u001b[1;32m     25\u001b[0m   \u001b[0mr\u001b[0m \u001b[0;34m=\u001b[0m \u001b[0mpenalty_col\u001b[0m\u001b[0;34m.\u001b[0m\u001b[0mindex\u001b[0m\u001b[0;34m(\u001b[0m\u001b[0mmax_p_r\u001b[0m\u001b[0;34m)\u001b[0m\u001b[0;34m\u001b[0m\u001b[0;34m\u001b[0m\u001b[0m\n",
            "\u001b[0;31mTypeError\u001b[0m: allocateValue() missing 6 required positional arguments: 'result_arr', 'bool_table', 'fact', 'ware', 'nrow', and 'ncol'"
          ]
        }
      ]
    },
    {
      "cell_type": "code",
      "source": [
        "def allocateValue(weights, r, c):\n",
        "  global fact, ware, bool_table, result_arr\n",
        "  if fact[r] > ware[c]:\n",
        "    result_arr[r][c] = ware[c]\n",
        "    fact[r] -= ware[c]\n",
        "    ware[c] = 0\n",
        "    for i in range(nrow):\n",
        "      bool_table[i][c] = False\n",
        "  elif fact[r] < ware[c]:\n",
        "    result_arr[r][c] = fact[r]\n",
        "    ware[c] -= fact[r]\n",
        "    fact[c] = 0\n",
        "    for i in range(ncol):\n",
        "      bool_table[r][i] = False\n",
        "  else:\n",
        "    result_arr[r][c] = fact[r]\n",
        "    fact[r] = 0\n",
        "    ware[c] = 0\n",
        "    for i in range(nrow):\n",
        "      bool_table[i][c] = False\n",
        "    for i in range(ncol):\n",
        "      bool_table[r][i] = False"
      ],
      "metadata": {
        "id": "pcml8Av6-48e"
      },
      "execution_count": null,
      "outputs": []
    },
    {
      "cell_type": "code",
      "source": [
        "import pandas as pd, numpy as np\n",
        "data = pd.read_excel('/content/data.xlsx', header=None)\n",
        "data"
      ],
      "metadata": {
        "id": "EiDuAM9kH1uR",
        "colab": {
          "base_uri": "https://localhost:8080/",
          "height": 175
        },
        "outputId": "7c76517b-e081-4cb8-bf96-0fd9f16da498"
      },
      "execution_count": 33,
      "outputs": [
        {
          "output_type": "execute_result",
          "data": {
            "text/html": [
              "\n",
              "  <div id=\"df-7eb97e17-11e3-4926-80aa-b336743a67a9\">\n",
              "    <div class=\"colab-df-container\">\n",
              "      <div>\n",
              "<style scoped>\n",
              "    .dataframe tbody tr th:only-of-type {\n",
              "        vertical-align: middle;\n",
              "    }\n",
              "\n",
              "    .dataframe tbody tr th {\n",
              "        vertical-align: top;\n",
              "    }\n",
              "\n",
              "    .dataframe thead th {\n",
              "        text-align: right;\n",
              "    }\n",
              "</style>\n",
              "<table border=\"1\" class=\"dataframe\">\n",
              "  <thead>\n",
              "    <tr style=\"text-align: right;\">\n",
              "      <th></th>\n",
              "      <th>0</th>\n",
              "      <th>1</th>\n",
              "      <th>2</th>\n",
              "      <th>3</th>\n",
              "      <th>4</th>\n",
              "    </tr>\n",
              "  </thead>\n",
              "  <tbody>\n",
              "    <tr>\n",
              "      <th>0</th>\n",
              "      <td>0</td>\n",
              "      <td>5</td>\n",
              "      <td>8</td>\n",
              "      <td>7</td>\n",
              "      <td>14</td>\n",
              "    </tr>\n",
              "    <tr>\n",
              "      <th>1</th>\n",
              "      <td>7</td>\n",
              "      <td>19</td>\n",
              "      <td>30</td>\n",
              "      <td>50</td>\n",
              "      <td>10</td>\n",
              "    </tr>\n",
              "    <tr>\n",
              "      <th>2</th>\n",
              "      <td>9</td>\n",
              "      <td>70</td>\n",
              "      <td>30</td>\n",
              "      <td>40</td>\n",
              "      <td>60</td>\n",
              "    </tr>\n",
              "    <tr>\n",
              "      <th>3</th>\n",
              "      <td>18</td>\n",
              "      <td>40</td>\n",
              "      <td>8</td>\n",
              "      <td>70</td>\n",
              "      <td>20</td>\n",
              "    </tr>\n",
              "  </tbody>\n",
              "</table>\n",
              "</div>\n",
              "      <button class=\"colab-df-convert\" onclick=\"convertToInteractive('df-7eb97e17-11e3-4926-80aa-b336743a67a9')\"\n",
              "              title=\"Convert this dataframe to an interactive table.\"\n",
              "              style=\"display:none;\">\n",
              "        \n",
              "  <svg xmlns=\"http://www.w3.org/2000/svg\" height=\"24px\"viewBox=\"0 0 24 24\"\n",
              "       width=\"24px\">\n",
              "    <path d=\"M0 0h24v24H0V0z\" fill=\"none\"/>\n",
              "    <path d=\"M18.56 5.44l.94 2.06.94-2.06 2.06-.94-2.06-.94-.94-2.06-.94 2.06-2.06.94zm-11 1L8.5 8.5l.94-2.06 2.06-.94-2.06-.94L8.5 2.5l-.94 2.06-2.06.94zm10 10l.94 2.06.94-2.06 2.06-.94-2.06-.94-.94-2.06-.94 2.06-2.06.94z\"/><path d=\"M17.41 7.96l-1.37-1.37c-.4-.4-.92-.59-1.43-.59-.52 0-1.04.2-1.43.59L10.3 9.45l-7.72 7.72c-.78.78-.78 2.05 0 2.83L4 21.41c.39.39.9.59 1.41.59.51 0 1.02-.2 1.41-.59l7.78-7.78 2.81-2.81c.8-.78.8-2.07 0-2.86zM5.41 20L4 18.59l7.72-7.72 1.47 1.35L5.41 20z\"/>\n",
              "  </svg>\n",
              "      </button>\n",
              "      \n",
              "  <style>\n",
              "    .colab-df-container {\n",
              "      display:flex;\n",
              "      flex-wrap:wrap;\n",
              "      gap: 12px;\n",
              "    }\n",
              "\n",
              "    .colab-df-convert {\n",
              "      background-color: #E8F0FE;\n",
              "      border: none;\n",
              "      border-radius: 50%;\n",
              "      cursor: pointer;\n",
              "      display: none;\n",
              "      fill: #1967D2;\n",
              "      height: 32px;\n",
              "      padding: 0 0 0 0;\n",
              "      width: 32px;\n",
              "    }\n",
              "\n",
              "    .colab-df-convert:hover {\n",
              "      background-color: #E2EBFA;\n",
              "      box-shadow: 0px 1px 2px rgba(60, 64, 67, 0.3), 0px 1px 3px 1px rgba(60, 64, 67, 0.15);\n",
              "      fill: #174EA6;\n",
              "    }\n",
              "\n",
              "    [theme=dark] .colab-df-convert {\n",
              "      background-color: #3B4455;\n",
              "      fill: #D2E3FC;\n",
              "    }\n",
              "\n",
              "    [theme=dark] .colab-df-convert:hover {\n",
              "      background-color: #434B5C;\n",
              "      box-shadow: 0px 1px 3px 1px rgba(0, 0, 0, 0.15);\n",
              "      filter: drop-shadow(0px 1px 2px rgba(0, 0, 0, 0.3));\n",
              "      fill: #FFFFFF;\n",
              "    }\n",
              "  </style>\n",
              "\n",
              "      <script>\n",
              "        const buttonEl =\n",
              "          document.querySelector('#df-7eb97e17-11e3-4926-80aa-b336743a67a9 button.colab-df-convert');\n",
              "        buttonEl.style.display =\n",
              "          google.colab.kernel.accessAllowed ? 'block' : 'none';\n",
              "\n",
              "        async function convertToInteractive(key) {\n",
              "          const element = document.querySelector('#df-7eb97e17-11e3-4926-80aa-b336743a67a9');\n",
              "          const dataTable =\n",
              "            await google.colab.kernel.invokeFunction('convertToInteractive',\n",
              "                                                     [key], {});\n",
              "          if (!dataTable) return;\n",
              "\n",
              "          const docLinkHtml = 'Like what you see? Visit the ' +\n",
              "            '<a target=\"_blank\" href=https://colab.research.google.com/notebooks/data_table.ipynb>data table notebook</a>'\n",
              "            + ' to learn more about interactive tables.';\n",
              "          element.innerHTML = '';\n",
              "          dataTable['output_type'] = 'display_data';\n",
              "          await google.colab.output.renderOutput(dataTable, element);\n",
              "          const docLink = document.createElement('div');\n",
              "          docLink.innerHTML = docLinkHtml;\n",
              "          element.appendChild(docLink);\n",
              "        }\n",
              "      </script>\n",
              "    </div>\n",
              "  </div>\n",
              "  "
            ],
            "text/plain": [
              "    0   1   2   3   4\n",
              "0   0   5   8   7  14\n",
              "1   7  19  30  50  10\n",
              "2   9  70  30  40  60\n",
              "3  18  40   8  70  20"
            ]
          },
          "metadata": {},
          "execution_count": 33
        }
      ]
    },
    {
      "cell_type": "code",
      "source": [
        "ware = list(data.iloc[0,:])\n",
        "ware = ware[1:]\n",
        "ware"
      ],
      "metadata": {
        "colab": {
          "base_uri": "https://localhost:8080/"
        },
        "id": "3rzzIMFZbMY6",
        "outputId": "f9f99036-1f4e-4c2e-ac72-bb4dba8ae641"
      },
      "execution_count": 45,
      "outputs": [
        {
          "output_type": "execute_result",
          "data": {
            "text/plain": [
              "[5, 8, 7, 14]"
            ]
          },
          "metadata": {},
          "execution_count": 45
        }
      ]
    },
    {
      "cell_type": "code",
      "source": [
        "fact = list(data.iloc[:,0])\n",
        "fact = fact[1:]\n",
        "fact"
      ],
      "metadata": {
        "colab": {
          "base_uri": "https://localhost:8080/"
        },
        "id": "il03mfUwb2il",
        "outputId": "3d7edac5-96b9-413e-ea88-9397ee7fced5"
      },
      "execution_count": 46,
      "outputs": [
        {
          "output_type": "execute_result",
          "data": {
            "text/plain": [
              "[7, 9, 18]"
            ]
          },
          "metadata": {},
          "execution_count": 46
        }
      ]
    },
    {
      "cell_type": "code",
      "source": [
        "weights = np.array(data.iloc[1:,1:])\n",
        "weights"
      ],
      "metadata": {
        "colab": {
          "base_uri": "https://localhost:8080/"
        },
        "id": "52TiQHJCcAD_",
        "outputId": "df070102-4000-44b6-e9de-f5da75a86edf"
      },
      "execution_count": 47,
      "outputs": [
        {
          "output_type": "execute_result",
          "data": {
            "text/plain": [
              "array([[19, 30, 50, 10],\n",
              "       [70, 30, 40, 60],\n",
              "       [40,  8, 70, 20]])"
            ]
          },
          "metadata": {},
          "execution_count": 47
        }
      ]
    },
    {
      "cell_type": "code",
      "source": [
        "northWestIBFS(fact,ware, weights)"
      ],
      "metadata": {
        "colab": {
          "base_uri": "https://localhost:8080/"
        },
        "id": "8BCMudkbcISa",
        "outputId": "52bc3e37-e4c2-4144-bd15-1b72fbbd3b15"
      },
      "execution_count": 48,
      "outputs": [
        {
          "output_type": "execute_result",
          "data": {
            "text/plain": [
              "(array([[ 5,  2,  0,  0],\n",
              "        [ 0,  6,  3,  0],\n",
              "        [ 0,  0,  4, 14]]), 1015)"
            ]
          },
          "metadata": {},
          "execution_count": 48
        }
      ]
    },
    {
      "cell_type": "code",
      "source": [
        ""
      ],
      "metadata": {
        "id": "5vqhYGOZegum"
      },
      "execution_count": null,
      "outputs": []
    }
  ]
}